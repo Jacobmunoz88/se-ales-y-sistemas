{
  "nbformat": 4,
  "nbformat_minor": 0,
  "metadata": {
    "colab": {
      "provenance": [],
      "authorship_tag": "ABX9TyO7MZjVdFvuAgalO7eLwZbT",
      "include_colab_link": true
    },
    "kernelspec": {
      "name": "python3",
      "display_name": "Python 3"
    },
    "language_info": {
      "name": "python"
    }
  },
  "cells": [
    {
      "cell_type": "markdown",
      "metadata": {
        "id": "view-in-github",
        "colab_type": "text"
      },
      "source": [
        "<a href=\"https://colab.research.google.com/github/Jacobmunoz88/se-ales-y-sistemas/blob/main/Parte_de_simulacion_taller_3.ipynb\" target=\"_parent\"><img src=\"https://colab.research.google.com/assets/colab-badge.svg\" alt=\"Open In Colab\"/></a>"
      ]
    },
    {
      "cell_type": "markdown",
      "source": [
        "# Solucion taller 3"
      ],
      "metadata": {
        "id": "warMmZKdTEOj"
      }
    },
    {
      "cell_type": "markdown",
      "source": [
        "Solucion problema 1\n",
        "\n",
        "Cuaderno Definicion transformada de la Laplace."
      ],
      "metadata": {
        "id": "0_wpqF7bF-Ry"
      }
    },
    {
      "cell_type": "markdown",
      "source": [
        "para la grafica se puede ver que los polos estan en -1 y 1 en el eje imaginario y -1 en el eje real\n",
        "para los ceros se puede ver que esta en el origen.\n",
        "para hallar la equivalencia de laplace se sustuyen los valores en la siguiente formula.\n",
        "\n",
        " \\begin{equation}\n",
        "   X(s) = K \\cdot \\frac{\\prod_{\\mu=0}^{Q} (s - s_{0 \\mu})}{\\prod_{\\nu=0}^{P} (s - s_{\\infty \\nu})}\n",
        "   \\end{equation}\n",
        "\n",
        "por lo que la ecuacion de la grafica quedaria:\n",
        "\\begin{equation}\n",
        "  X(s) = 2 \\cdot \\frac{s}{ (s - 1 + 1j)(s - 1 - 1j)}\n",
        "\\end{equation}"
      ],
      "metadata": {
        "id": "9BPeVVNnTM_z"
      }
    },
    {
      "cell_type": "markdown",
      "source": [
        "Solucion problema 2\n",
        "\n",
        "Cuaderno Propiedades basicas transformada de la Laplace."
      ],
      "metadata": {
        "id": "2XVfdL_jGegH"
      }
    },
    {
      "cell_type": "code",
      "source": [
        "t, w0 = sym.symbols('t omega0', real=True)\n",
        "s = sym.symbols('s', complex=True)\n",
        "\n",
        "x = sym.sin(w0*t)\n",
        "X, a, cond = sym.laplace_transform(x, t, s)\n",
        "X, a, cond"
      ],
      "metadata": {
        "colab": {
          "base_uri": "https://localhost:8080/",
          "height": 58
        },
        "id": "2kJG0fF9LYIO",
        "outputId": "cade1fd2-b1e2-4e2e-c52a-94706221e973"
      },
      "execution_count": 35,
      "outputs": [
        {
          "output_type": "execute_result",
          "data": {
            "text/plain": [
              "⎛   ω₀            ⎞\n",
              "⎜────────, 0, True⎟\n",
              "⎜  2    2         ⎟\n",
              "⎝ω₀  + s          ⎠"
            ],
            "text/latex": "$\\displaystyle \\left( \\frac{\\omega_{0}}{\\omega_{0}^{2} + s^{2}}, \\  0, \\  \\text{True}\\right)$"
          },
          "metadata": {},
          "execution_count": 35
        }
      ]
    },
    {
      "cell_type": "markdown",
      "source": [
        "Los ceros de esta transformada es una constante diferente de cero. Por lo tanto, no hay ceros en esta.\n",
        "\n",
        "Los polos son los valores de s que hacen que la función sea infinita, es decir, cuando el denominador se anula.\n",
        "por lo que se llega a siguientes polos.\n",
        "\n",
        "\\begin{equation}\n",
        "   s^2 + w_o^2=0\n",
        "   \\end{equation}\n",
        "\n",
        "\\begin{equation}\n",
        "   s^2 =- w_o^2\n",
        "   \\end{equation}\n",
        "\n",
        "\\begin{equation}\n",
        "   s =\\pm jw_o\n",
        "   \\end{equation}\n",
        "Los polos están ubicados en el eje imaginario en $s = -jw_o$ y $s = jw_o$.\n",
        "por lo que los polos están ubicados simétricamente en el eje imaginario y se puede decir que es una simetría conjugada compleja. ."
      ],
      "metadata": {
        "id": "zyar-Nnlm9dn"
      }
    },
    {
      "cell_type": "markdown",
      "source": [
        "Solucion problema 4\n",
        "\n",
        "Parte de simulacion."
      ],
      "metadata": {
        "id": "vjdD4ympF1nL"
      }
    },
    {
      "cell_type": "code",
      "source": [
        "%matplotlib inline\n",
        "import sympy as sym\n",
        "import sympy as sp\n",
        "sym.init_printing()\n",
        "#se definen las variables simbólicas y se aplica la función de laplace de sympy\n",
        "t, w0 = sym.symbols('t omega0', real=True)\n",
        "s = sym.symbols('s', complex=True)\n",
        "\n",
        "x = sym.exp(-2*t)*sp.Heaviside(t) +sym.exp(-3*t)*sp.Heaviside(t)\n",
        "X, a, cond = sym.laplace_transform(x, t, s)\n",
        "print(X)\n",
        ""
      ],
      "metadata": {
        "colab": {
          "base_uri": "https://localhost:8080/"
        },
        "id": "-qPYQbbmxV0r",
        "outputId": "f79a6287-1661-426c-c37f-171425504a95"
      },
      "execution_count": 25,
      "outputs": [
        {
          "output_type": "stream",
          "name": "stdout",
          "text": [
            "1/(s + 3) + 1/(s + 2)\n"
          ]
        }
      ]
    },
    {
      "cell_type": "code",
      "source": [
        "y=  sym.exp(2*t)*sym.Heaviside(t) + sym.exp(-3*t)*sym.Heaviside(-t)\n",
        "Y, a, cond = sym.laplace_transform(y, t, s)\n",
        "print(Y)"
      ],
      "metadata": {
        "colab": {
          "base_uri": "https://localhost:8080/"
        },
        "id": "k3XC9ksT3IeF",
        "outputId": "ed3c9056-c8cd-46fd-8991-8da004c71acf"
      },
      "execution_count": 29,
      "outputs": [
        {
          "output_type": "stream",
          "name": "stdout",
          "text": [
            "1/(s - 2)\n"
          ]
        }
      ]
    },
    {
      "cell_type": "code",
      "source": [
        "a = sym.symbols(\"a\",real=True)\n",
        "c=sym.exp(-a*abs(t))\n",
        "C, v,cond=sym.laplace_transform(c,t,s)\n",
        "print(C)"
      ],
      "metadata": {
        "colab": {
          "base_uri": "https://localhost:8080/"
        },
        "id": "wODQEUvw3XPS",
        "outputId": "989c5a40-753f-4a9c-f86e-7c64b3cd5333"
      },
      "execution_count": 17,
      "outputs": [
        {
          "output_type": "stream",
          "name": "stdout",
          "text": [
            "1/(a*(1 + s/a))\n"
          ]
        }
      ]
    },
    {
      "cell_type": "code",
      "source": [
        "d = sym.exp(-2*t)*(sym.Heaviside(t)-sym.Heaviside(t-5))\n",
        "D, v,cond=sym.laplace_transform(d,t,s)\n",
        "print(D)"
      ],
      "metadata": {
        "colab": {
          "base_uri": "https://localhost:8080/"
        },
        "id": "GXysZT3o4ylU",
        "outputId": "d22f70c4-d93f-4374-f2b2-5dcef3ab7f8b"
      },
      "execution_count": 18,
      "outputs": [
        {
          "output_type": "stream",
          "name": "stdout",
          "text": [
            "-exp(-5*s - 10)/(s + 2) + 1/(s + 2)\n"
          ]
        }
      ]
    },
    {
      "cell_type": "markdown",
      "source": [
        " Solucion problema 5\n",
        "\n",
        " Parte de simulacion"
      ],
      "metadata": {
        "id": "1NrifPyBFmVF"
      }
    },
    {
      "cell_type": "code",
      "source": [
        "g= 1/(s**3 + 5*s**2 + 8*s + 4)\n",
        "sym.inverse_laplace_transform(g, s, t).simplify()"
      ],
      "metadata": {
        "colab": {
          "base_uri": "https://localhost:8080/",
          "height": 38
        },
        "id": "yZV616IECrco",
        "outputId": "b064ce3c-05a4-42b8-dd61-c3971121fe69"
      },
      "execution_count": 27,
      "outputs": [
        {
          "output_type": "execute_result",
          "data": {
            "text/plain": [
              "⎛      t    ⎞  -2⋅t     \n",
              "⎝-t + ℯ  - 1⎠⋅ℯ    ⋅θ(t)"
            ],
            "text/latex": "$\\displaystyle \\left(- t + e^{t} - 1\\right) e^{- 2 t} \\theta\\left(t\\right)$"
          },
          "metadata": {},
          "execution_count": 27
        }
      ]
    },
    {
      "cell_type": "markdown",
      "source": [
        "Solucion problema 6\n",
        "\n",
        "* Qué relación tiene $\\lambda$ con el la salida obtenida al resolver la EDO?\n",
        "\n",
        "R= La solución de la EDO es la **autofunción** que corresponde a un autovalor particular $\\lambda$. Es una función no trivial que satisface la relación $L[y] = \\lambda y$.\n",
        "\n",
        "El $\\lambda$ determina la naturaleza de la solución. Las autofunciones correspondientes a cada $\\lambda$ describen el comportamiento del sistema bajo el operador $L$ , y los autovalores $\\lambda$ caracterizan cómo estas soluciones son escaladas por dicho operador.\n",
        "* Puede generalizar sus resultados a una EDO de orden arbitrario?\n",
        "\n",
        "R= Para una EDO lineal homogénea de orden arbitrario, la solución siempre está dada por una combinación lineal de $n$ funciones, donde $n$ es el orden de la ecuación, y las formas de estas funciones dependen de las raíces del polinomio característico asociado."
      ],
      "metadata": {
        "id": "DNJ5V2H9GtOw"
      }
    }
  ]
}